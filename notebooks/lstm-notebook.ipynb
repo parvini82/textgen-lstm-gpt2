{
 "cells": [
  {
   "metadata": {
    "collapsed": true,
    "ExecuteTime": {
     "end_time": "2025-07-23T07:22:00.031347Z",
     "start_time": "2025-07-23T07:21:54.492935Z"
    }
   },
   "cell_type": "code",
   "outputs": [],
   "execution_count": 2,
   "source": [
    "import pandas as pd\n",
    "import numpy as np\n",
    "from collections import Counter\n",
    "from tensorflow.keras.models import Sequential\n",
    "from tensorflow.keras.layers import Embedding, LSTM, Dropout, Dense\n",
    "from tensorflow.keras.optimizers import Adam"
   ],
   "id": "64e8577c5aab108a"
  },
  {
   "metadata": {
    "ExecuteTime": {
     "end_time": "2025-07-23T07:22:28.427806Z",
     "start_time": "2025-07-23T07:22:00.041426Z"
    }
   },
   "cell_type": "code",
   "outputs": [
    {
     "name": "stderr",
     "output_type": "stream",
     "text": [
      "/var/folders/ml/s9qbdr0x6z7588vxmc4pgrfr0000gq/T/ipykernel_91801/173248410.py:1: DtypeWarning: Columns (3,9,10) have mixed types. Specify dtype option on import or set low_memory=False.\n",
      "  df = pd.read_csv(\"/Users/work/Desktop/DataScience/Projects/textgen-lstm-gpt2/data/freecodecamp_casual_chatroom.csv\")\n"
     ]
    },
    {
     "data": {
      "text/plain": [
       "   Unnamed: 0 editedAt  fromUser fromUser.avatarUrl  \\\n",
       "0           0      NaN       NaN                NaN   \n",
       "1           1      NaN       NaN                NaN   \n",
       "2           2      NaN       NaN                NaN   \n",
       "3           3      NaN       NaN                NaN   \n",
       "4           4      NaN       NaN                NaN   \n",
       "\n",
       "                            fromUser.avatarUrlMedium  \\\n",
       "0  https://avatars2.githubusercontent.com/u/21996...   \n",
       "1  https://avatars0.githubusercontent.com/u/10361...   \n",
       "2  https://avatars0.githubusercontent.com/u/10361...   \n",
       "3  https://avatars2.githubusercontent.com/u/21996...   \n",
       "4  https://avatars0.githubusercontent.com/u/42194...   \n",
       "\n",
       "                             fromUser.avatarUrlSmall fromUser.displayName  \\\n",
       "0  https://avatars2.githubusercontent.com/u/21996...       Charles Watson   \n",
       "1  https://avatars0.githubusercontent.com/u/10361...      janetwalters008   \n",
       "2  https://avatars0.githubusercontent.com/u/10361...      janetwalters008   \n",
       "3  https://avatars2.githubusercontent.com/u/21996...       Charles Watson   \n",
       "4  https://avatars0.githubusercontent.com/u/42194...         Paul Gilliam   \n",
       "\n",
       "   fromUser.gv               fromUser.id fromUser.removed  ... issues  \\\n",
       "0          3.0  546fd99cdb8155e6700d6ec8              NaN  ...     []   \n",
       "1          NaN  54a47e0cdb8155e6700e486e              NaN  ...     []   \n",
       "2          NaN  54a47e0cdb8155e6700e486e              NaN  ...     []   \n",
       "3          3.0  546fd99cdb8155e6700d6ec8              NaN  ...     []   \n",
       "4          3.0  54a44bbbdb8155e6700e47de              NaN  ...     []   \n",
       "\n",
       "                                            mentions meta  readBy  \\\n",
       "0                                                 []   []      22   \n",
       "1                                                 []   []      21   \n",
       "2                                                 []   []      21   \n",
       "3  [{'userIds': [], 'userId': '54a47e0cdb8155e670...   []      22   \n",
       "4                                                 []   []      22   \n",
       "\n",
       "                       sent status  \\\n",
       "0  2014-12-31T23:01:35.647Z    NaN   \n",
       "1  2014-12-31T23:02:51.600Z    NaN   \n",
       "2  2014-12-31T23:03:14.221Z    NaN   \n",
       "3  2014-12-31T23:03:20.182Z    NaN   \n",
       "4  2014-12-31T23:03:38.388Z    NaN   \n",
       "\n",
       "                                                text unread urls  v  \n",
       "0                                  no legumes either  False   []  1  \n",
       "1            That bullet proof coffee sounds insane.  False   []  1  \n",
       "2                            That guy has huge eyes.  False   []  1  \n",
       "3  @janetwalters008 It is. but it works. some peo...  False   []  1  \n",
       "4  They guy that came up with the idea is kind of...  False   []  1  \n",
       "\n",
       "[5 rows x 26 columns]"
      ],
      "text/html": [
       "<div>\n",
       "<style scoped>\n",
       "    .dataframe tbody tr th:only-of-type {\n",
       "        vertical-align: middle;\n",
       "    }\n",
       "\n",
       "    .dataframe tbody tr th {\n",
       "        vertical-align: top;\n",
       "    }\n",
       "\n",
       "    .dataframe thead th {\n",
       "        text-align: right;\n",
       "    }\n",
       "</style>\n",
       "<table border=\"1\" class=\"dataframe\">\n",
       "  <thead>\n",
       "    <tr style=\"text-align: right;\">\n",
       "      <th></th>\n",
       "      <th>Unnamed: 0</th>\n",
       "      <th>editedAt</th>\n",
       "      <th>fromUser</th>\n",
       "      <th>fromUser.avatarUrl</th>\n",
       "      <th>fromUser.avatarUrlMedium</th>\n",
       "      <th>fromUser.avatarUrlSmall</th>\n",
       "      <th>fromUser.displayName</th>\n",
       "      <th>fromUser.gv</th>\n",
       "      <th>fromUser.id</th>\n",
       "      <th>fromUser.removed</th>\n",
       "      <th>...</th>\n",
       "      <th>issues</th>\n",
       "      <th>mentions</th>\n",
       "      <th>meta</th>\n",
       "      <th>readBy</th>\n",
       "      <th>sent</th>\n",
       "      <th>status</th>\n",
       "      <th>text</th>\n",
       "      <th>unread</th>\n",
       "      <th>urls</th>\n",
       "      <th>v</th>\n",
       "    </tr>\n",
       "  </thead>\n",
       "  <tbody>\n",
       "    <tr>\n",
       "      <th>0</th>\n",
       "      <td>0</td>\n",
       "      <td>NaN</td>\n",
       "      <td>NaN</td>\n",
       "      <td>NaN</td>\n",
       "      <td>https://avatars2.githubusercontent.com/u/21996...</td>\n",
       "      <td>https://avatars2.githubusercontent.com/u/21996...</td>\n",
       "      <td>Charles Watson</td>\n",
       "      <td>3.0</td>\n",
       "      <td>546fd99cdb8155e6700d6ec8</td>\n",
       "      <td>NaN</td>\n",
       "      <td>...</td>\n",
       "      <td>[]</td>\n",
       "      <td>[]</td>\n",
       "      <td>[]</td>\n",
       "      <td>22</td>\n",
       "      <td>2014-12-31T23:01:35.647Z</td>\n",
       "      <td>NaN</td>\n",
       "      <td>no legumes either</td>\n",
       "      <td>False</td>\n",
       "      <td>[]</td>\n",
       "      <td>1</td>\n",
       "    </tr>\n",
       "    <tr>\n",
       "      <th>1</th>\n",
       "      <td>1</td>\n",
       "      <td>NaN</td>\n",
       "      <td>NaN</td>\n",
       "      <td>NaN</td>\n",
       "      <td>https://avatars0.githubusercontent.com/u/10361...</td>\n",
       "      <td>https://avatars0.githubusercontent.com/u/10361...</td>\n",
       "      <td>janetwalters008</td>\n",
       "      <td>NaN</td>\n",
       "      <td>54a47e0cdb8155e6700e486e</td>\n",
       "      <td>NaN</td>\n",
       "      <td>...</td>\n",
       "      <td>[]</td>\n",
       "      <td>[]</td>\n",
       "      <td>[]</td>\n",
       "      <td>21</td>\n",
       "      <td>2014-12-31T23:02:51.600Z</td>\n",
       "      <td>NaN</td>\n",
       "      <td>That bullet proof coffee sounds insane.</td>\n",
       "      <td>False</td>\n",
       "      <td>[]</td>\n",
       "      <td>1</td>\n",
       "    </tr>\n",
       "    <tr>\n",
       "      <th>2</th>\n",
       "      <td>2</td>\n",
       "      <td>NaN</td>\n",
       "      <td>NaN</td>\n",
       "      <td>NaN</td>\n",
       "      <td>https://avatars0.githubusercontent.com/u/10361...</td>\n",
       "      <td>https://avatars0.githubusercontent.com/u/10361...</td>\n",
       "      <td>janetwalters008</td>\n",
       "      <td>NaN</td>\n",
       "      <td>54a47e0cdb8155e6700e486e</td>\n",
       "      <td>NaN</td>\n",
       "      <td>...</td>\n",
       "      <td>[]</td>\n",
       "      <td>[]</td>\n",
       "      <td>[]</td>\n",
       "      <td>21</td>\n",
       "      <td>2014-12-31T23:03:14.221Z</td>\n",
       "      <td>NaN</td>\n",
       "      <td>That guy has huge eyes.</td>\n",
       "      <td>False</td>\n",
       "      <td>[]</td>\n",
       "      <td>1</td>\n",
       "    </tr>\n",
       "    <tr>\n",
       "      <th>3</th>\n",
       "      <td>3</td>\n",
       "      <td>NaN</td>\n",
       "      <td>NaN</td>\n",
       "      <td>NaN</td>\n",
       "      <td>https://avatars2.githubusercontent.com/u/21996...</td>\n",
       "      <td>https://avatars2.githubusercontent.com/u/21996...</td>\n",
       "      <td>Charles Watson</td>\n",
       "      <td>3.0</td>\n",
       "      <td>546fd99cdb8155e6700d6ec8</td>\n",
       "      <td>NaN</td>\n",
       "      <td>...</td>\n",
       "      <td>[]</td>\n",
       "      <td>[{'userIds': [], 'userId': '54a47e0cdb8155e670...</td>\n",
       "      <td>[]</td>\n",
       "      <td>22</td>\n",
       "      <td>2014-12-31T23:03:20.182Z</td>\n",
       "      <td>NaN</td>\n",
       "      <td>@janetwalters008 It is. but it works. some peo...</td>\n",
       "      <td>False</td>\n",
       "      <td>[]</td>\n",
       "      <td>1</td>\n",
       "    </tr>\n",
       "    <tr>\n",
       "      <th>4</th>\n",
       "      <td>4</td>\n",
       "      <td>NaN</td>\n",
       "      <td>NaN</td>\n",
       "      <td>NaN</td>\n",
       "      <td>https://avatars0.githubusercontent.com/u/42194...</td>\n",
       "      <td>https://avatars0.githubusercontent.com/u/42194...</td>\n",
       "      <td>Paul Gilliam</td>\n",
       "      <td>3.0</td>\n",
       "      <td>54a44bbbdb8155e6700e47de</td>\n",
       "      <td>NaN</td>\n",
       "      <td>...</td>\n",
       "      <td>[]</td>\n",
       "      <td>[]</td>\n",
       "      <td>[]</td>\n",
       "      <td>22</td>\n",
       "      <td>2014-12-31T23:03:38.388Z</td>\n",
       "      <td>NaN</td>\n",
       "      <td>They guy that came up with the idea is kind of...</td>\n",
       "      <td>False</td>\n",
       "      <td>[]</td>\n",
       "      <td>1</td>\n",
       "    </tr>\n",
       "  </tbody>\n",
       "</table>\n",
       "<p>5 rows × 26 columns</p>\n",
       "</div>"
      ]
     },
     "execution_count": 3,
     "metadata": {},
     "output_type": "execute_result"
    }
   ],
   "execution_count": 3,
   "source": [
    "df = pd.read_csv(\"/Users/work/Desktop/DataScience/Projects/textgen-lstm-gpt2/data/freecodecamp_casual_chatroom.csv\")\n",
    "\n",
    "df.head()"
   ],
   "id": "33a4c2b335707d05"
  },
  {
   "metadata": {
    "ExecuteTime": {
     "end_time": "2025-07-23T07:22:30.890382Z",
     "start_time": "2025-07-23T07:22:29.790726Z"
    }
   },
   "cell_type": "code",
   "outputs": [],
   "execution_count": 4,
   "source": [
    "df = df[df[\"text\"].notna()]\n",
    "texts = df[\"text\"].astype(str).tolist()\n",
    "texts = texts[:int(len(texts)*0.001)]"
   ],
   "id": "7e10434240fe1fd2"
  },
  {
   "metadata": {
    "ExecuteTime": {
     "end_time": "2025-07-23T07:22:31.053874Z",
     "start_time": "2025-07-23T07:22:31.050621Z"
    }
   },
   "cell_type": "code",
   "outputs": [],
   "execution_count": 5,
   "source": "corpus = \" \".join(texts).lower()",
   "id": "fbce9a92484988e1"
  },
  {
   "metadata": {
    "ExecuteTime": {
     "end_time": "2025-07-23T07:22:31.067218Z",
     "start_time": "2025-07-23T07:22:31.062920Z"
    }
   },
   "cell_type": "code",
   "outputs": [
    {
     "name": "stdout",
     "output_type": "stream",
     "text": [
      "Unique characters: 79\n",
      "['\\t', '\\n', ' ', '!', '\"', '#', '$', '%', '&', \"'\", '(', ')', '*', '+', ',', '-', '.', '/', '0', '1', '2', '3', '4', '5', '6', '7', '8', '9', ':', ';', '<', '=', '>', '?', '@', '[', '\\\\', ']', '^', '_', '`', 'a', 'b', 'c', 'd', 'e', 'f', 'g', 'h', 'i', 'j', 'k', 'l', 'm', 'n', 'o', 'p', 'q', 'r', 's', 't', 'u', 'v', 'w', 'x', 'y', 'z', '{', '|', '}', '~', 'å', '–', '—', '‘', '’', '“', '”', '…']\n"
     ]
    }
   ],
   "execution_count": 6,
   "source": [
    "chars = sorted(list(set(corpus)))\n",
    "print(\"Unique characters:\", len(chars))\n",
    "print(chars[:100])"
   ],
   "id": "f9050fd577dbcb7c"
  },
  {
   "metadata": {
    "ExecuteTime": {
     "end_time": "2025-07-23T07:22:31.178746Z",
     "start_time": "2025-07-23T07:22:31.154991Z"
    }
   },
   "cell_type": "code",
   "outputs": [],
   "execution_count": 7,
   "source": [
    "char_freq = Counter(corpus)\n",
    "\n",
    "min_freq = 1000\n",
    "valid_chars = {char for char, freq in char_freq.items() if freq >= min_freq}\n",
    "\n",
    "clean_corpus = ''.join(c for c in corpus if c in valid_chars)\n",
    "\n"
   ],
   "id": "6c808ead7943ea6f"
  },
  {
   "metadata": {
    "ExecuteTime": {
     "end_time": "2025-07-23T07:22:31.279411Z",
     "start_time": "2025-07-23T07:22:31.275294Z"
    }
   },
   "cell_type": "code",
   "outputs": [
    {
     "name": "stdout",
     "output_type": "stream",
     "text": [
      "6 a\n"
     ]
    }
   ],
   "execution_count": 8,
   "source": [
    "valid_chars = sorted(list(set(clean_corpus)))\n",
    "\n",
    "char_to_idx = {c: i for i, c in enumerate(valid_chars)}\n",
    "idx_to_char = {i: c for i, c in enumerate(valid_chars)}\n",
    "\n",
    "print(char_to_idx['a'], idx_to_char[char_to_idx['a']])\n"
   ],
   "id": "9965e4856e983e62"
  },
  {
   "metadata": {
    "ExecuteTime": {
     "end_time": "2025-07-23T07:22:33.438851Z",
     "start_time": "2025-07-23T07:22:33.436246Z"
    }
   },
   "cell_type": "code",
   "outputs": [
    {
     "name": "stdout",
     "output_type": "stream",
     "text": [
      "Unique characters: 29\n"
     ]
    }
   ],
   "execution_count": 9,
   "source": "print(\"Unique characters:\", len(valid_chars))\n",
   "id": "e76b371f7d01f2f"
  },
  {
   "metadata": {
    "ExecuteTime": {
     "end_time": "2025-07-23T07:22:36.082439Z",
     "start_time": "2025-07-23T07:22:36.061450Z"
    }
   },
   "cell_type": "code",
   "outputs": [
    {
     "name": "stdout",
     "output_type": "stream",
     "text": [
      "Number of sequences: 100741\n",
      "Example X: no legumes either that bullet proof coff\n",
      "Example y: e\n"
     ]
    }
   ],
   "execution_count": 10,
   "source": [
    "maxlen = 40\n",
    "step = 3\n",
    "\n",
    "sequences = []\n",
    "next_chars = []\n",
    "\n",
    "for i in range(0, len(clean_corpus) - maxlen, step):\n",
    "    sequences.append(clean_corpus[i: i + maxlen])\n",
    "    next_chars.append(clean_corpus[i + maxlen])\n",
    "\n",
    "print(\"Number of sequences:\", len(sequences))\n",
    "print(\"Example X:\", sequences[0])\n",
    "print(\"Example y:\", next_chars[0])\n"
   ],
   "id": "e2a3cea7adbc68ce"
  },
  {
   "metadata": {
    "ExecuteTime": {
     "end_time": "2025-07-23T07:22:36.308477Z",
     "start_time": "2025-07-23T07:22:36.092342Z"
    }
   },
   "cell_type": "code",
   "outputs": [
    {
     "name": "stdout",
     "output_type": "stream",
     "text": [
      "Shape of X: (100741, 40)\n",
      "Shape of y: (100741,)\n",
      "Example X[0]: [19 20  0 17 10 12 25 18 10 23  0 10 14 24 13 10 22  0 24 13  6 24  0  7\n",
      " 25 17 17 10 24  0 21 22 20 20 11  0  8 20 11 11]\n",
      "Example y[0]: 10\n"
     ]
    }
   ],
   "execution_count": 11,
   "source": [
    "num_samples = len(sequences)\n",
    "maxlen = len(sequences[0])\n",
    "\n",
    "X = np.zeros((num_samples, maxlen), dtype=np.int32)\n",
    "y = np.zeros(num_samples, dtype=np.int32)\n",
    "\n",
    "for i, seq in enumerate(sequences):\n",
    "    X[i] = [char_to_idx[c] for c in seq]\n",
    "    y[i] = char_to_idx[next_chars[i]]\n",
    "\n",
    "print(\"Shape of X:\", X.shape)\n",
    "print(\"Shape of y:\", y.shape)\n",
    "print(\"Example X[0]:\", X[0])\n",
    "print(\"Example y[0]:\", y[0])"
   ],
   "id": "3740f6647ac11605"
  },
  {
   "metadata": {
    "ExecuteTime": {
     "end_time": "2025-07-23T07:22:37.593262Z",
     "start_time": "2025-07-23T07:22:37.535011Z"
    }
   },
   "cell_type": "code",
   "outputs": [
    {
     "name": "stderr",
     "output_type": "stream",
     "text": [
      "/Users/work/PycharmProjects/AI_HW4/.venv/lib/python3.11/site-packages/keras/src/layers/core/embedding.py:97: UserWarning: Argument `input_length` is deprecated. Just remove it.\n",
      "  warnings.warn(\n"
     ]
    },
    {
     "data": {
      "text/plain": [
       "\u001B[1mModel: \"sequential\"\u001B[0m\n"
      ],
      "text/html": [
       "<pre style=\"white-space:pre;overflow-x:auto;line-height:normal;font-family:Menlo,'DejaVu Sans Mono',consolas,'Courier New',monospace\"><span style=\"font-weight: bold\">Model: \"sequential\"</span>\n",
       "</pre>\n"
      ]
     },
     "metadata": {},
     "output_type": "display_data"
    },
    {
     "data": {
      "text/plain": [
       "┏━━━━━━━━━━━━━━━━━━━━━━━━━━━━━━━━━┳━━━━━━━━━━━━━━━━━━━━━━━━┳━━━━━━━━━━━━━━━┓\n",
       "┃\u001B[1m \u001B[0m\u001B[1mLayer (type)                   \u001B[0m\u001B[1m \u001B[0m┃\u001B[1m \u001B[0m\u001B[1mOutput Shape          \u001B[0m\u001B[1m \u001B[0m┃\u001B[1m \u001B[0m\u001B[1m      Param #\u001B[0m\u001B[1m \u001B[0m┃\n",
       "┡━━━━━━━━━━━━━━━━━━━━━━━━━━━━━━━━━╇━━━━━━━━━━━━━━━━━━━━━━━━╇━━━━━━━━━━━━━━━┩\n",
       "│ embedding (\u001B[38;5;33mEmbedding\u001B[0m)           │ ?                      │   \u001B[38;5;34m0\u001B[0m (unbuilt) │\n",
       "├─────────────────────────────────┼────────────────────────┼───────────────┤\n",
       "│ lstm (\u001B[38;5;33mLSTM\u001B[0m)                     │ ?                      │   \u001B[38;5;34m0\u001B[0m (unbuilt) │\n",
       "├─────────────────────────────────┼────────────────────────┼───────────────┤\n",
       "│ dropout (\u001B[38;5;33mDropout\u001B[0m)               │ ?                      │             \u001B[38;5;34m0\u001B[0m │\n",
       "├─────────────────────────────────┼────────────────────────┼───────────────┤\n",
       "│ dense (\u001B[38;5;33mDense\u001B[0m)                   │ ?                      │   \u001B[38;5;34m0\u001B[0m (unbuilt) │\n",
       "└─────────────────────────────────┴────────────────────────┴───────────────┘\n"
      ],
      "text/html": [
       "<pre style=\"white-space:pre;overflow-x:auto;line-height:normal;font-family:Menlo,'DejaVu Sans Mono',consolas,'Courier New',monospace\">┏━━━━━━━━━━━━━━━━━━━━━━━━━━━━━━━━━┳━━━━━━━━━━━━━━━━━━━━━━━━┳━━━━━━━━━━━━━━━┓\n",
       "┃<span style=\"font-weight: bold\"> Layer (type)                    </span>┃<span style=\"font-weight: bold\"> Output Shape           </span>┃<span style=\"font-weight: bold\">       Param # </span>┃\n",
       "┡━━━━━━━━━━━━━━━━━━━━━━━━━━━━━━━━━╇━━━━━━━━━━━━━━━━━━━━━━━━╇━━━━━━━━━━━━━━━┩\n",
       "│ embedding (<span style=\"color: #0087ff; text-decoration-color: #0087ff\">Embedding</span>)           │ ?                      │   <span style=\"color: #00af00; text-decoration-color: #00af00\">0</span> (unbuilt) │\n",
       "├─────────────────────────────────┼────────────────────────┼───────────────┤\n",
       "│ lstm (<span style=\"color: #0087ff; text-decoration-color: #0087ff\">LSTM</span>)                     │ ?                      │   <span style=\"color: #00af00; text-decoration-color: #00af00\">0</span> (unbuilt) │\n",
       "├─────────────────────────────────┼────────────────────────┼───────────────┤\n",
       "│ dropout (<span style=\"color: #0087ff; text-decoration-color: #0087ff\">Dropout</span>)               │ ?                      │             <span style=\"color: #00af00; text-decoration-color: #00af00\">0</span> │\n",
       "├─────────────────────────────────┼────────────────────────┼───────────────┤\n",
       "│ dense (<span style=\"color: #0087ff; text-decoration-color: #0087ff\">Dense</span>)                   │ ?                      │   <span style=\"color: #00af00; text-decoration-color: #00af00\">0</span> (unbuilt) │\n",
       "└─────────────────────────────────┴────────────────────────┴───────────────┘\n",
       "</pre>\n"
      ]
     },
     "metadata": {},
     "output_type": "display_data"
    },
    {
     "data": {
      "text/plain": [
       "\u001B[1m Total params: \u001B[0m\u001B[38;5;34m0\u001B[0m (0.00 B)\n"
      ],
      "text/html": [
       "<pre style=\"white-space:pre;overflow-x:auto;line-height:normal;font-family:Menlo,'DejaVu Sans Mono',consolas,'Courier New',monospace\"><span style=\"font-weight: bold\"> Total params: </span><span style=\"color: #00af00; text-decoration-color: #00af00\">0</span> (0.00 B)\n",
       "</pre>\n"
      ]
     },
     "metadata": {},
     "output_type": "display_data"
    },
    {
     "data": {
      "text/plain": [
       "\u001B[1m Trainable params: \u001B[0m\u001B[38;5;34m0\u001B[0m (0.00 B)\n"
      ],
      "text/html": [
       "<pre style=\"white-space:pre;overflow-x:auto;line-height:normal;font-family:Menlo,'DejaVu Sans Mono',consolas,'Courier New',monospace\"><span style=\"font-weight: bold\"> Trainable params: </span><span style=\"color: #00af00; text-decoration-color: #00af00\">0</span> (0.00 B)\n",
       "</pre>\n"
      ]
     },
     "metadata": {},
     "output_type": "display_data"
    },
    {
     "data": {
      "text/plain": [
       "\u001B[1m Non-trainable params: \u001B[0m\u001B[38;5;34m0\u001B[0m (0.00 B)\n"
      ],
      "text/html": [
       "<pre style=\"white-space:pre;overflow-x:auto;line-height:normal;font-family:Menlo,'DejaVu Sans Mono',consolas,'Courier New',monospace\"><span style=\"font-weight: bold\"> Non-trainable params: </span><span style=\"color: #00af00; text-decoration-color: #00af00\">0</span> (0.00 B)\n",
       "</pre>\n"
      ]
     },
     "metadata": {},
     "output_type": "display_data"
    }
   ],
   "execution_count": 12,
   "source": [
    "vocab_size = len(char_to_idx) \n",
    "embedding_dim = 32                \n",
    "lstm_units = 128\n",
    "\n",
    "model = Sequential([\n",
    "    Embedding(input_dim=vocab_size, output_dim=embedding_dim, input_length=maxlen),\n",
    "    LSTM(lstm_units, return_sequences=False),\n",
    "    Dropout(0.2),\n",
    "    Dense(vocab_size, activation='softmax')\n",
    "])\n",
    "\n",
    "model.compile(\n",
    "    loss='sparse_categorical_crossentropy',\n",
    "    optimizer=Adam(learning_rate=0.001),\n",
    "    metrics=['accuracy']\n",
    ")\n",
    "\n",
    "model.summary()"
   ],
   "id": "798f3eec17278671"
  },
  {
   "metadata": {
    "ExecuteTime": {
     "end_time": "2025-07-23T07:38:44.162476Z",
     "start_time": "2025-07-23T07:25:03.038835Z"
    }
   },
   "cell_type": "code",
   "outputs": [
    {
     "name": "stdout",
     "output_type": "stream",
     "text": [
      "Epoch 1/20\n",
      "\u001B[1m1417/1417\u001B[0m \u001B[32m━━━━━━━━━━━━━━━━━━━━\u001B[0m\u001B[37m\u001B[0m \u001B[1m40s\u001B[0m 28ms/step - accuracy: 0.4426 - loss: 1.9081 - val_accuracy: 0.4630 - val_loss: 1.8433\n",
      "Epoch 2/20\n",
      "\u001B[1m1417/1417\u001B[0m \u001B[32m━━━━━━━━━━━━━━━━━━━━\u001B[0m\u001B[37m\u001B[0m \u001B[1m38s\u001B[0m 27ms/step - accuracy: 0.4634 - loss: 1.8315 - val_accuracy: 0.4788 - val_loss: 1.7960\n",
      "Epoch 3/20\n",
      "\u001B[1m1417/1417\u001B[0m \u001B[32m━━━━━━━━━━━━━━━━━━━━\u001B[0m\u001B[37m\u001B[0m \u001B[1m39s\u001B[0m 28ms/step - accuracy: 0.4831 - loss: 1.7629 - val_accuracy: 0.4858 - val_loss: 1.7575\n",
      "Epoch 4/20\n",
      "\u001B[1m1417/1417\u001B[0m \u001B[32m━━━━━━━━━━━━━━━━━━━━\u001B[0m\u001B[37m\u001B[0m \u001B[1m40s\u001B[0m 29ms/step - accuracy: 0.4980 - loss: 1.7140 - val_accuracy: 0.4974 - val_loss: 1.7302\n",
      "Epoch 5/20\n",
      "\u001B[1m1417/1417\u001B[0m \u001B[32m━━━━━━━━━━━━━━━━━━━━\u001B[0m\u001B[37m\u001B[0m \u001B[1m40s\u001B[0m 28ms/step - accuracy: 0.5089 - loss: 1.6670 - val_accuracy: 0.5056 - val_loss: 1.7144\n",
      "Epoch 6/20\n",
      "\u001B[1m1417/1417\u001B[0m \u001B[32m━━━━━━━━━━━━━━━━━━━━\u001B[0m\u001B[37m\u001B[0m \u001B[1m40s\u001B[0m 29ms/step - accuracy: 0.5184 - loss: 1.6321 - val_accuracy: 0.5088 - val_loss: 1.6982\n",
      "Epoch 7/20\n",
      "\u001B[1m1417/1417\u001B[0m \u001B[32m━━━━━━━━━━━━━━━━━━━━\u001B[0m\u001B[37m\u001B[0m \u001B[1m40s\u001B[0m 28ms/step - accuracy: 0.5278 - loss: 1.5966 - val_accuracy: 0.5132 - val_loss: 1.6921\n",
      "Epoch 8/20\n",
      "\u001B[1m1417/1417\u001B[0m \u001B[32m━━━━━━━━━━━━━━━━━━━━\u001B[0m\u001B[37m\u001B[0m \u001B[1m43s\u001B[0m 30ms/step - accuracy: 0.5359 - loss: 1.5729 - val_accuracy: 0.5138 - val_loss: 1.6863\n",
      "Epoch 9/20\n",
      "\u001B[1m1417/1417\u001B[0m \u001B[32m━━━━━━━━━━━━━━━━━━━━\u001B[0m\u001B[37m\u001B[0m \u001B[1m40s\u001B[0m 28ms/step - accuracy: 0.5426 - loss: 1.5397 - val_accuracy: 0.5172 - val_loss: 1.6800\n",
      "Epoch 10/20\n",
      "\u001B[1m1417/1417\u001B[0m \u001B[32m━━━━━━━━━━━━━━━━━━━━\u001B[0m\u001B[37m\u001B[0m \u001B[1m41s\u001B[0m 29ms/step - accuracy: 0.5493 - loss: 1.5146 - val_accuracy: 0.5207 - val_loss: 1.6686\n",
      "Epoch 11/20\n",
      "\u001B[1m1417/1417\u001B[0m \u001B[32m━━━━━━━━━━━━━━━━━━━━\u001B[0m\u001B[37m\u001B[0m \u001B[1m41s\u001B[0m 29ms/step - accuracy: 0.5550 - loss: 1.4955 - val_accuracy: 0.5212 - val_loss: 1.6702\n",
      "Epoch 12/20\n",
      "\u001B[1m1417/1417\u001B[0m \u001B[32m━━━━━━━━━━━━━━━━━━━━\u001B[0m\u001B[37m\u001B[0m \u001B[1m42s\u001B[0m 30ms/step - accuracy: 0.5588 - loss: 1.4796 - val_accuracy: 0.5219 - val_loss: 1.6694\n",
      "Epoch 13/20\n",
      "\u001B[1m1417/1417\u001B[0m \u001B[32m━━━━━━━━━━━━━━━━━━━━\u001B[0m\u001B[37m\u001B[0m \u001B[1m42s\u001B[0m 30ms/step - accuracy: 0.5636 - loss: 1.4592 - val_accuracy: 0.5250 - val_loss: 1.6742\n",
      "Epoch 14/20\n",
      "\u001B[1m1417/1417\u001B[0m \u001B[32m━━━━━━━━━━━━━━━━━━━━\u001B[0m\u001B[37m\u001B[0m \u001B[1m42s\u001B[0m 30ms/step - accuracy: 0.5695 - loss: 1.4419 - val_accuracy: 0.5247 - val_loss: 1.6730\n",
      "Epoch 15/20\n",
      "\u001B[1m1417/1417\u001B[0m \u001B[32m━━━━━━━━━━━━━━━━━━━━\u001B[0m\u001B[37m\u001B[0m \u001B[1m42s\u001B[0m 29ms/step - accuracy: 0.5720 - loss: 1.4218 - val_accuracy: 0.5222 - val_loss: 1.6756\n",
      "Epoch 16/20\n",
      "\u001B[1m1417/1417\u001B[0m \u001B[32m━━━━━━━━━━━━━━━━━━━━\u001B[0m\u001B[37m\u001B[0m \u001B[1m42s\u001B[0m 29ms/step - accuracy: 0.5765 - loss: 1.4176 - val_accuracy: 0.5211 - val_loss: 1.6805\n",
      "Epoch 17/20\n",
      "\u001B[1m1417/1417\u001B[0m \u001B[32m━━━━━━━━━━━━━━━━━━━━\u001B[0m\u001B[37m\u001B[0m \u001B[1m43s\u001B[0m 30ms/step - accuracy: 0.5765 - loss: 1.4065 - val_accuracy: 0.5227 - val_loss: 1.6813\n",
      "Epoch 18/20\n",
      "\u001B[1m1417/1417\u001B[0m \u001B[32m━━━━━━━━━━━━━━━━━━━━\u001B[0m\u001B[37m\u001B[0m \u001B[1m39s\u001B[0m 27ms/step - accuracy: 0.5844 - loss: 1.3839 - val_accuracy: 0.5227 - val_loss: 1.6883\n",
      "Epoch 19/20\n",
      "\u001B[1m1417/1417\u001B[0m \u001B[32m━━━━━━━━━━━━━━━━━━━━\u001B[0m\u001B[37m\u001B[0m \u001B[1m39s\u001B[0m 28ms/step - accuracy: 0.5838 - loss: 1.3791 - val_accuracy: 0.5223 - val_loss: 1.6940\n",
      "Epoch 20/20\n",
      "\u001B[1m1417/1417\u001B[0m \u001B[32m━━━━━━━━━━━━━━━━━━━━\u001B[0m\u001B[37m\u001B[0m \u001B[1m47s\u001B[0m 33ms/step - accuracy: 0.5887 - loss: 1.3681 - val_accuracy: 0.5202 - val_loss: 1.6999\n"
     ]
    }
   ],
   "execution_count": 14,
   "source": "history = model.fit(X, y, batch_size=64, epochs=20, validation_split=0.1)\n",
   "id": "98fd64f122b9ef85"
  },
  {
   "metadata": {
    "ExecuteTime": {
     "end_time": "2025-07-23T07:38:53.302814Z",
     "start_time": "2025-07-23T07:38:53.294437Z"
    }
   },
   "cell_type": "code",
   "outputs": [],
   "execution_count": 15,
   "source": [
    "def sample(preds, temperature=1.0):\n",
    "    preds = np.asarray(preds).astype('float64')\n",
    "    preds = np.log(preds + 1e-8) / temperature\n",
    "    exp_preds = np.exp(preds)\n",
    "    preds = exp_preds / np.sum(exp_preds)\n",
    "    return np.random.choice(len(preds), p=preds)\n",
    "\n",
    "def generate_text(model, seed_text, char_to_idx, idx_to_char, maxlen=40, length=300, temperature=1.0):\n",
    "    generated = seed_text\n",
    "    input_seq = seed_text[-maxlen:]\n",
    "    \n",
    "    for _ in range(length):\n",
    "        input_indices = [char_to_idx.get(c, 0) for c in input_seq]\n",
    "        input_padded = np.zeros((1, maxlen), dtype=np.int32)\n",
    "        input_padded[0, -len(input_indices):] = input_indices\n",
    "\n",
    "        preds = model.predict(input_padded, verbose=0)[0]\n",
    "        \n",
    "        next_index = sample(preds, temperature)\n",
    "        next_char = idx_to_char[next_index]\n",
    "\n",
    "        generated += next_char\n",
    "        input_seq = generated[-maxlen:]\n",
    "\n",
    "    return generated"
   ],
   "id": "a2ee0889cd1d029a"
  },
  {
   "metadata": {
    "ExecuteTime": {
     "end_time": "2025-07-23T07:40:10.265759Z",
     "start_time": "2025-07-23T07:40:09.554314Z"
    }
   },
   "cell_type": "code",
   "outputs": [
    {
     "name": "stdout",
     "output_type": "stream",
     "text": [
      "Seed: what are you working on\n",
      "\n",
      "Generated:\n",
      " what are you working on the dorumant when y\n"
     ]
    }
   ],
   "execution_count": 20,
   "source": [
    "seed = \"what are you working on\"\n",
    "generated_text = generate_text(model, seed, char_to_idx, idx_to_char, maxlen=maxlen, length=20, temperature=0.8)\n",
    "\n",
    "print(\"Seed:\", seed)\n",
    "print(\"\\nGenerated:\\n\", generated_text)"
   ],
   "id": "f9beadb05b7decd2"
  },
  {
   "metadata": {},
   "cell_type": "code",
   "outputs": [],
   "source": "",
   "id": "109abb54af90bde5",
   "execution_count": null
  }
 ],
 "metadata": {
  "kernelspec": {
   "display_name": "Python 3",
   "language": "python",
   "name": "python3"
  },
  "language_info": {
   "codemirror_mode": {
    "name": "ipython",
    "version": 2
   },
   "file_extension": ".py",
   "mimetype": "text/x-python",
   "name": "python",
   "nbconvert_exporter": "python",
   "pygments_lexer": "ipython2",
   "version": "2.7.6"
  }
 },
 "nbformat": 4,
 "nbformat_minor": 5
}
